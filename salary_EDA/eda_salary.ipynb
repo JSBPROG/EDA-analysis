{
 "cells": [
  {
   "cell_type": "markdown",
   "id": "ca6aa28f",
   "metadata": {},
   "source": [
    "# Análisis estadístico de películas"
   ]
  },
  {
   "cell_type": "markdown",
   "id": "6cbd8151",
   "metadata": {},
   "source": [
    "<!-- Créditos al dataset de kaggle: https://www.kaggle.com/datasets/ayessa/salary-prediction-classification \n",
    "\n",
    "Extraído de la web:   \n",
    "Extraction was done by Barry Becker from the 1994 Census database.  \n",
    "Prediction task is to determine whether a person makes over 50K a year.  \n",
    "\n",
    "Columns are:  \n",
    "age: continuous.  \n",
    "workclass: Private, Self-emp-not-inc, Self-emp-inc, Federal-gov, Local-gov, State-gov, Without-pay, Never-worked.  \n",
    "fnlwgt: continuous.  \n",
    "education: Bachelors, Some-college, 11th, HS-grad, Prof-school, Assoc-acdm, Assoc-voc, 9th, 7th-8th, 12th, Masters, 1st-4th, 10th, Doctorate, 5th-6th, Preschool.  \n",
    "education-num: continuous.  \n",
    "marital-status: Married-civ-spouse, Divorced, Never-married, Separated, Widowed, Married-spouse-absent, Married-AF-spouse.  \n",
    "occupation: Tech-support, Craft-repair, Other-service, Sales, Exec-managerial, Prof-specialty, Handlers-cleaners, Machine-op-inspct, Adm-clerical, Farming-fishing,   Transport-moving, Priv-house-serv, Protective-serv, Armed-Forces.  \n",
    "relationship: Wife, Own-child, Husband, Not-in-family, Other-relative, Unmarried.  \n",
    "race: White, Asian-Pac-Islander, Amer-Indian-Eskimo, Other, Black.  \n",
    "sex: Female, Male.  \n",
    "capital-gain: continuous.  \n",
    "capital-loss: continuous.  \n",
    "hours-per-week: continuous.  \n",
    "native-country: United-States, Cambodia, England, Puerto-Rico, Canada, Germany, Outlying-US(Guam-USVI-etc), India, Japan, Greece, South, China, Cuba, Iran, Honduras,   Philippines, Italy, Poland, Jamaica, Vietnam, Mexico, Portugal, Ireland, France, Dominican-Republic, Laos, Ecuador, Taiwan, Haiti, Columbia, Hungary, Guatemala, Nicaragua, Scotland, Thailand, Yugoslavia, El-Salvador, Trinadad&Tobago, Peru, Hong, Holand-Netherlands.\n",
    "salary: <=50K or >50K  \n",
    "Source: https://archive.ics.uci.edu/ml/datasets/Census+Income  \n",
    "Thumbnail: https://www.deskera.com/blog/net-salary/   -->"
   ]
  },
  {
   "cell_type": "code",
   "execution_count": null,
   "id": "0e449db2",
   "metadata": {},
   "outputs": [],
   "source": [
    "import pandas as pd\n",
    "import typing as t\n",
    "import csv\n",
    "import altair as alt\n",
    "import plotly.express as px\n",
    "import seaborn as sns\n",
    "import matplotlib.pyplot as plt"
   ]
  },
  {
   "cell_type": "markdown",
   "id": "5a2c9ff8",
   "metadata": {},
   "source": [
    "Créditos: https://www.kaggle.com/datasets/ayessa/salary-prediction-classification \n",
    "\n",
    "Información del dataset:  \n",
    "\n",
    "Extraction was done by Barry Becker from the 1994 Census database.  \n",
    "Prediction task is to determine whether a person makes over 50K a year.  \n",
    "\n",
    "Columns are:  \n",
    "age: continuous.  \n",
    "workclass: Private, Self-emp-not-inc, Self-emp-inc, Federal-gov, Local-gov, State-gov, Without-pay, Never-worked.  \n",
    "fnlwgt: continuous.  \n",
    "education: Bachelors, Some-college, 11th, HS-grad, Prof-school, Assoc-acdm, Assoc-voc, 9th, 7th-8th, 12th, Masters, 1st-4th, 10th, Doctorate, 5th-6th, Preschool.  \n",
    "education-num: continuous.  \n",
    "marital-status: Married-civ-spouse, Divorced, Never-married, Separated, Widowed, Married-spouse-absent, Married-AF-spouse.  \n",
    "occupation: Tech-support, Craft-repair, Other-service, Sales, Exec-managerial, Prof-specialty, Handlers-cleaners, Machine-op-inspct, Adm-clerical, Farming-fishing, Transport-moving, Priv-house-serv, Protective-serv, Armed-Forces.  \n",
    "relationship: Wife, Own-child, Husband, Not-in-family, Other-relative, Unmarried.  \n",
    "race: White, Asian-Pac-Islander, Amer-Indian-Eskimo, Other, Black.  \n",
    "sex: Female, Male.  \n",
    "capital-gain: continuous.  \n",
    "capital-loss: continuous.  \n",
    "hours-per-week: continuous.  \n",
    "native-country: United-States, Cambodia, England, Puerto-Rico, Canada, Germany, Outlying-US(Guam-USVI-etc), India, Japan, Greece, South, China, Cuba, Iran, Honduras, Philippines, Italy, Poland, Jamaica, Vietnam, Mexico, Portugal, Ireland, France, Dominican-Republic, Laos, Ecuador, Taiwan, Haiti, Columbia, Hungary, Guatemala, Nicaragua, Scotland, Thailand, Yugoslavia, El-Salvador, Trinadad&Tobago, Peru, Hong, Holand-Netherlands.  \n",
    "salary: <=50K or >50K  \n",
    "Source: https://archive.ics.uci.edu/ml/datasets/Census+Income  \n",
    "Thumbnail: https://www.deskera.com/blog/net-salary/\n",
    "\n",
    "Explicación mejorada con GPT:\n",
    "\n",
    "| **Columna**        | **Tipo**           | **Descripción**                                                                                                                        |\n",
    "| ------------------ | ------------------ | -------------------------------------------------------------------------------------------------------------------------------------- |\n",
    "| **age**            | Numérica continua  | Edad del individuo (en años).                                                                                                          |\n",
    "| **workclass**      | Categórica         | Tipo de empleador del individuo, como privado, gobierno, etc.                                                                          |\n",
    "| **fnlwgt**         | Numérica continua  | **Peso de la muestra**: número usado por el censo para expandir una persona en la población. A menudo ignorado en modelos predictivos. |\n",
    "| **education**      | Categórica         | Nivel educativo nominal, como “Bachelors”, “HS-grad”, etc.                                                                             |\n",
    "| **education-num**  | Numérica discreta  | Nivel educativo como número. Ej.: “Bachelors” = 13. Se correlaciona con `education`.                                                   |\n",
    "| **marital-status** | Categórica         | Estado civil del individuo: casado, divorciado, nunca casado, etc.                                                                     |\n",
    "| **occupation**     | Categórica         | Tipo de ocupación o trabajo que realiza. Ej: ventas, técnicos, ejecutivos, etc.                                                        |\n",
    "| **relationship**   | Categórica         | Relación con el jefe de familia: esposo/a, hijo/a, no en la familia, etc.                                                              |\n",
    "| **race**           | Categórica         | Raza/etnia del individuo.                                                                                                              |\n",
    "| **sex**            | Categórica         | Sexo biológico: “Male” o “Female”.                                                                                                     |\n",
    "| **capital-gain**   | Numérica continua  | Ganancia de capital (ej. ganancias por inversiones). Muchas veces es 0.                                                                |\n",
    "| **capital-loss**   | Numérica continua  | Pérdida de capital. También suele ser 0 para la mayoría.                                                                               |\n",
    "| **hours-per-week** | Numérica continua  | Horas trabajadas por semana.                                                                                                           |\n",
    "| **native-country** | Categórica         | País de origen del individuo.                                                                                                          |\n",
    "| **salary**         | Categórica binaria | Objetivo del modelo. Si gana **más de 50K o no** (`<=50K`, `>50K`).                                                                    |\n"
   ]
  },
  {
   "cell_type": "markdown",
   "id": "fb23383e",
   "metadata": {},
   "source": [
    "## Funciones"
   ]
  },
  {
   "cell_type": "code",
   "execution_count": null,
   "id": "63239eb8",
   "metadata": {},
   "outputs": [],
   "source": [
    "def read_csv_to_dataframe(file:str) -> pd.DataFrame:\n",
    "    \"Lectura del archivo\"\n",
    "    try:\n",
    "        data: pd.Dataframe = pd.read_csv(file)\n",
    "        return data\n",
    "    except:\n",
    "        print (\"No se ha cargado el csv\")\n",
    "def percentage_of_total (cuantity: int, total:int) -> any:\n",
    "    return (cuantity * 100)/total\n",
    "    \n",
    "def clean_dataframe_whitespace(df: pd.DataFrame) -> pd.DataFrame:\n",
    "    df.columns = df.columns.str.strip()\n",
    "    for col in df.select_dtypes(include=['object', 'string']).columns:\n",
    "        df[col] = df[col].str.strip()\n",
    "    \n",
    "    return df\n",
    "    \n"
   ]
  },
  {
   "cell_type": "code",
   "execution_count": null,
   "id": "5d739291",
   "metadata": {},
   "outputs": [],
   "source": [
    "data=read_csv_to_dataframe(\"salary.csv\")\n",
    "print(data.head(10))"
   ]
  },
  {
   "cell_type": "code",
   "execution_count": null,
   "id": "e069ac8c",
   "metadata": {},
   "outputs": [],
   "source": [
    "# Comenzamos estudiando las estadísticas que nos interesan, dado que es un dataset sobre salario:\n",
    "\n",
    "\n",
    "print(f\"Total de filas y columnas: {data.shape}\")\n",
    "print(\"------------------------\")\n",
    "print(f\"Caso de mayor edad: {data['age'].max()}\")\n",
    "serie_age = (data[\"age\"] == 90).sum()\n",
    "print(f\"Número de personas con 90 años: {serie_age} que representa un {percentage_of_total(serie_age,len(data))}% sobre el total\")\n",
    "print(\"------------------------\")\n",
    "print(f\"Caso de menor edad: {data['age'].min()}\")\n",
    "serie_age = (data[\"age\"] == 17).sum()\n",
    "print(f\"Número de personas con 17 años: {serie_age} que representa un {percentage_of_total(serie_age,len(data))}% sobre el total\")\n",
    "\n"
   ]
  },
  {
   "cell_type": "markdown",
   "id": "a9e89f57",
   "metadata": {},
   "source": [
    "Podemos observar que la cantidad de individuos con la edad mínima es bastante más elevada que los de edad máxima (algo bastante lógico, teniendo en cuenta que el máximo es 90 años)"
   ]
  },
  {
   "cell_type": "code",
   "execution_count": null,
   "id": "ac77c2d4",
   "metadata": {},
   "outputs": [],
   "source": [
    "#Aquí tenemos un error común y algo que se debe limpiar, que no existan espacios al inicio del nombre de las )columnas.\n",
    "print(data[\"sex\"].unique())\n",
    "datacopy=data.copy()\n",
    "df = clean_dataframe_whitespace(datacopy)\n",
    "\n",
    "\n",
    "femaleCount = (df[\"sex\"] == \"Female\").sum()\n",
    "print(f\"Total de mujeres: {femaleCount}, representan un total de {percentage_of_total(femaleCount, len(df))}% sobre el dataset\")\n",
    "maleCount = (df[\"sex\"] == \"Male\").sum()\n",
    "print(f\"Total de hombres: {maleCount}, representan un total de {percentage_of_total(maleCount, len(df))}% sobre el dataset\")\n",
    "\n",
    "\n",
    "total        = len(df)\n",
    "\n",
    "counts_df = pd.DataFrame({\n",
    "    \"sex\": [\"Hombres\", \"Mujeres\"],\n",
    "    \"count\": [maleCount, femaleCount],\n",
    "    \"percentage\": [percentage_of_total(maleCount, total),\n",
    "                   percentage_of_total(femaleCount, total)]\n",
    "})\n",
    "\n",
    "\n",
    "\n",
    "chart = alt.Chart(counts_df).mark_bar().encode(\n",
    "    x=alt.X('sex:N', title='Género'),\n",
    "    y=alt.Y('count:Q', title='Total'),\n",
    "    color=alt.Color('sex:N', legend=None)\n",
    ").properties(\n",
    "    title='Conteo de Hombres y Mujeres en el Dataset',\n",
    "    width=500,\n",
    "    height=400\n",
    ")\n",
    "\n",
    "chart.show()"
   ]
  },
  {
   "cell_type": "code",
   "execution_count": null,
   "id": "0521d7c9",
   "metadata": {},
   "outputs": [],
   "source": [
    "# Estudio de la variable objetivo\n",
    "\n",
    "unique_salary = df[\"salary\"].unique()\n",
    "print(f\"Columnas diferentes de salario {unique_salary}\")\n",
    "total_salary_min = (df[\"salary\"] == \"<=50K\").sum()\n",
    "total_salary_max = (df[\"salary\"] == \">50K\").sum()\n",
    "print(\"----------------\")\n",
    "print(f\"El total de personas que cobran <=50K: {total_salary_min} \")\n",
    "print(f\"El total de personas que cobran >50K: {total_salary_max} \")\n",
    "print(\"------------------------\")\n",
    "\n",
    "altdata = pd.DataFrame({\n",
    "    \"salary\": [\"<=50K\", \">50K\"],\n",
    "    \"count\": [total_salary_min, total_salary_max],\n",
    "})\n",
    "\n",
    "\n",
    "chart = alt.Chart(altdata).mark_bar().encode(\n",
    "    x=alt.X('salary:N', title='Rango salarial'),\n",
    "    y=alt.Y('count:Q', title='Total'),\n",
    "    color=alt.Color('salary:N', legend=None)\n",
    ").properties(\n",
    "    title='Rango salarial',\n",
    "    width=500,\n",
    "    height=400\n",
    ")\n",
    "\n",
    "chart.show()"
   ]
  },
  {
   "cell_type": "markdown",
   "id": "22d82361",
   "metadata": {},
   "source": [
    "Podemos ver que la **mayoría de los datos es de gente que cobra menos o igual que 50k**, el desbalance es demasiado grande, es posible que esté fuertemente sesgado, igual que en el ratio hombres-mujeres, siendo un 66% vs 33%"
   ]
  },
  {
   "cell_type": "code",
   "execution_count": null,
   "id": "11d87249",
   "metadata": {},
   "outputs": [],
   "source": [
    "# Vamos a ver según el lugar de nacimiento de la persona los rangos salariales\n",
    "\n",
    "unique_native_country = df[\"native-country\"].unique()\n",
    "print(f\"Paises de origen diferentes {unique_native_country}\")\n",
    "\n",
    "\n",
    "\n",
    "\n",
    "\n",
    "counts = (\n",
    "    df.groupby(\"native-country\")\n",
    "      .size()\n",
    "      .reset_index(name=\"count\")\n",
    ")\n",
    "\n",
    "\n",
    "print(counts)\n",
    "\n",
    "\n",
    "total = counts[\"count\"].sum()\n",
    "counts[\"percentage\"] = (counts[\"count\"] / total * 100).round(1)\n",
    "\n",
    "\n",
    "donut = alt.Chart(counts).mark_arc(innerRadius=120, outerRadius=200).encode(\n",
    "    theta=alt.Theta(field='count', type='quantitative', title='Registros'),\n",
    "    color=alt.Color(field='native-country', type='nominal', title='País'),\n",
    "    tooltip=[\n",
    "        alt.Tooltip('native-country:N', title='País'),\n",
    "        alt.Tooltip('count:Q', title='Total registros'),\n",
    "        alt.Tooltip('percentage:Q', title='Porcentaje (%)')\n",
    "    ]\n",
    ").properties(\n",
    "    title='Distribución de Registros por País de Nacimiento',\n",
    "    width=600,\n",
    "    height=600\n",
    ")\n",
    "\n",
    "donut"
   ]
  },
  {
   "cell_type": "markdown",
   "id": "d2fda64e",
   "metadata": {},
   "source": [
    "Parece que **la mayoría de datos proviene de estados unidos**  \n",
    "A continuación, crearé 2 subdatasets, uno que sea con <=50k y otro >50k, sacaré otros 2 gráficos a ver si cambian los mark_arc"
   ]
  },
  {
   "cell_type": "code",
   "execution_count": null,
   "id": "68a59ba0",
   "metadata": {},
   "outputs": [],
   "source": [
    "# Subconjuntos\n",
    "df_low  = df[df[\"salary\"] == \"<=50K\"]\n",
    "df_high = df[df[\"salary\"] == \">50K\"]\n",
    "\n",
    "# Conteos\n",
    "counts_low  = df_low.groupby(\"native-country\").size().reset_index(name=\"count\")\n",
    "counts_high = df_high.groupby(\"native-country\").size().reset_index(name=\"count\")\n",
    "\n",
    "# Porcentajes\n",
    "counts_low[\"percentage\"]  = (counts_low[\"count\"]  / counts_low[\"count\"].sum()  * 100).round(1)\n",
    "counts_high[\"percentage\"] = (counts_high[\"count\"] / counts_high[\"count\"].sum() * 100).round(1)\n",
    "\n",
    "# Donuts\n",
    "donut_low = alt.Chart(counts_low).mark_arc(innerRadius=100, outerRadius=180).encode(\n",
    "    theta=alt.Theta(\"count:Q\", title=\"Registros\"),\n",
    "    color=alt.Color(\"native-country:N\", title=\"País\"),\n",
    "    tooltip=[\n",
    "        alt.Tooltip(\"native-country:N\", title=\"País\"),\n",
    "        alt.Tooltip(\"count:Q\", title=\"Total registros\"),\n",
    "        alt.Tooltip(\"percentage:Q\", title=\"Porcentaje (%)\")\n",
    "    ]\n",
    ").properties(\n",
    "    title=\"Distribución Países (≤50K)\",\n",
    "    width=350, height=350\n",
    ")\n",
    "\n",
    "donut_high = alt.Chart(counts_high).mark_arc(innerRadius=100, outerRadius=180).encode(\n",
    "    theta=alt.Theta(\"count:Q\"),\n",
    "    color=alt.Color(\"native-country:N\"),\n",
    "    tooltip=[\n",
    "        alt.Tooltip(\"native-country:N\"),\n",
    "        alt.Tooltip(\"count:Q\"),\n",
    "        alt.Tooltip(\"percentage:Q\")\n",
    "    ]\n",
    ").properties(\n",
    "    title=\"Distribución Países (>50K)\",\n",
    "    width=350, height=350\n",
    ")\n",
    "\n",
    "# Lado a lado con escala de color compartida\n",
    "(donut_low | donut_high).resolve_scale(color='shared')"
   ]
  },
  {
   "cell_type": "markdown",
   "id": "fef048fc",
   "metadata": {},
   "source": [
    "Podemos observar que los datos se parecen mucho en proporción, pero hay una gran diferencia, en México parece que es más común que se perciba un salario por debajo o igual a 50k"
   ]
  },
  {
   "cell_type": "code",
   "execution_count": null,
   "id": "fe18983b",
   "metadata": {},
   "outputs": [],
   "source": [
    "#Analicemos la ocupación respecto al salario\n",
    "dif_occupations = df[\"occupation\"].unique()\n",
    "print (f\"Diferentes ocupaciones: {len(dif_occupations)}\")\n",
    "print(f\"Ocupaciones: {dif_occupations}\")\n",
    "\n",
    "salary_by_occupation = df.groupby(['occupation', 'salary']).size().unstack(fill_value=0)\n",
    "\n",
    "\n",
    "plt.figure(figsize=(15, 12))\n",
    "salary_by_occupation.plot(kind='bar', stacked=False, color=['#FF9999', '#66B3FF'], width=0.8)\n",
    "\n",
    "#Gráfico de barras agrupadas.\n",
    "plt.title('Distribución de Salarios por Ocupación', fontsize=16)\n",
    "plt.xlabel('Ocupación', fontsize=12)\n",
    "plt.ylabel('Número de Personas', fontsize=12)\n",
    "plt.xticks(rotation=45, ha='right')\n",
    "plt.legend(title='Salario', loc='upper right', labels=['<=50K', '>50K'])\n",
    "plt.tight_layout()\n",
    "\n",
    "\n",
    "plt.show()\n"
   ]
  },
  {
   "cell_type": "markdown",
   "id": "1b243655",
   "metadata": {},
   "source": [
    "Información relevante que podemos extraer: \n",
    "-Muchas personas cobran por debajo o igual de 50K, la clara mayoría.\n",
    "-El empleo en el que más gente trabaja por <=50K es Adm-clerical, seguido por Craft-repair y Other-service.\n",
    "-El empleo que tiene más gente cobrando >50K es Exec-managerial, seguido por Prof-speciality"
   ]
  },
  {
   "cell_type": "code",
   "execution_count": null,
   "id": "72dfd36a",
   "metadata": {},
   "outputs": [],
   "source": [
    "#Vamos a describir el dataset, para ver si existen valores nulos outliers, etc...\n",
    "\n",
    "print(df.describe()) #Esto es solo para numéricos"
   ]
  },
  {
   "cell_type": "markdown",
   "id": "be10dbce",
   "metadata": {},
   "source": [
    "## Varios datos aquí son muy interesantes:  \n",
    "\n",
    "### En edad:  \n",
    "-La media es 38, coherente.  \n",
    "-La desviación típica es 13, por lo tanto hay bastante dispersión, esto es normal puesto que la diferencia entre máximo y mínimo es 17 a 90, no parece haber outliers como tal.  \n",
    "\n",
    "### En capital-gain:  \n",
    "-La desviación típica es muchísima, pero dada la escala de los datos (viendo el máximo y mínimo), no parece ser tanta desviación como a priori parece. Es mucha, pero no en escala.  \n",
    "### En horas trabajadas por semana:  \n",
    "-La media de horas trabajadas por semana es 40, lo cual es un indicador extraño, pero lo estoy comparando con el trabajo español (donde 40 horas es el máximo), el cual está más regulado que en estados unidos.\n",
    "El mínimo es una hora y el máximo es 99 horas a la semana. Esto es extraño, posibles outliers, especialmente por arriba.\n"
   ]
  },
  {
   "cell_type": "code",
   "execution_count": null,
   "id": "ecef5e0e",
   "metadata": {},
   "outputs": [],
   "source": [
    "\n",
    "\n",
    "\n",
    "source = pd.DataFrame({\n",
    "    \"age\": df[\"age\"],\n",
    "    \"hours-per-week\": df[\"hours-per-week\"],\n",
    "    \"salary\": df[\"salary\"]\n",
    "})\n",
    "\n",
    "fig = px.scatter(source, \n",
    "                 x=\"age\", \n",
    "                 y=\"hours-per-week\", \n",
    "                 color=\"salary\", \n",
    "                 hover_data=[\"age\", \"hours-per-week\", \"salary\"],\n",
    "                 labels={\"age\": \"Edad\", \"hours-per-week\": \"Horas por semana\", \"salary\": \"Salario\"})\n",
    "\n",
    "\n",
    "fig.show()\n"
   ]
  },
  {
   "cell_type": "markdown",
   "id": "17f4d1a2",
   "metadata": {},
   "source": [
    "Este gráfico nos confirma que efectivamente existen outliers, hay casos extremos como gente con 90 años trabajando  más de 90 horas a la semana y gente trabajando menos de 5 horas a la semana y cobrando más de 50K. Es posible esto último, pero serán casos muy aislados, susceptibles de ser eliminables.\n",
    "Obviando todo esto, parece que los valores de >50K están por el medio concentrados, donde están aprox las 40 horas trabajadas."
   ]
  },
  {
   "cell_type": "code",
   "execution_count": null,
   "id": "4fd6d25d",
   "metadata": {},
   "outputs": [],
   "source": [
    "\n",
    "fig = px.violin(source, \n",
    "                x=\"salary\", \n",
    "                y=\"hours-per-week\", \n",
    "                box=True, \n",
    "                points=\"all\", \n",
    "                labels={\"salary\": \"Salario\", \"hours-per-week\": \"Horas por semana\"})\n",
    "fig.show()"
   ]
  },
  {
   "cell_type": "code",
   "execution_count": null,
   "id": "192467a7",
   "metadata": {},
   "outputs": [],
   "source": [
    "source_grouped = source.groupby(['age', 'salary']).size().reset_index(name='count')\n",
    "\n",
    "fig = px.bar(source_grouped, \n",
    "             x='age', \n",
    "             y='count', \n",
    "             color='salary', \n",
    "             labels={\"age\": \"Edad\", \"count\": \"Cantidad de personas\", \"salary\": \"Salario\"},\n",
    "             title=\"Distribución de Salarios por Edad\")\n",
    "fig.show()"
   ]
  },
  {
   "cell_type": "code",
   "execution_count": null,
   "id": "052309d1",
   "metadata": {},
   "outputs": [],
   "source": [
    "fig = px.scatter_3d(source, \n",
    "                    x=\"age\", \n",
    "                    y=\"hours-per-week\", \n",
    "                    z=\"salary\", \n",
    "                    color=\"salary\", \n",
    "                    labels={\"age\": \"Edad\", \"hours-per-week\": \"Horas por semana\", \"salary\": \"Salario\"})\n",
    "fig.show()"
   ]
  },
  {
   "cell_type": "markdown",
   "id": "d7f5fc4f",
   "metadata": {},
   "source": [
    "## Correlaciones"
   ]
  },
  {
   "cell_type": "code",
   "execution_count": null,
   "id": "ab7c3731",
   "metadata": {},
   "outputs": [],
   "source": [
    "correlation_matrix = df.corr(numeric_only=True, min_periods=2)\n",
    "print(f\"Correlaciones entre todas las columnas numéricas (Pearson): \\n\\n{correlation_matrix}\")"
   ]
  },
  {
   "cell_type": "code",
   "execution_count": null,
   "id": "ed781d04",
   "metadata": {},
   "outputs": [],
   "source": [
    "\n",
    "plt.figure(figsize=(10, 8))\n",
    "sns.heatmap(correlation_matrix, annot=True, cmap='coolwarm', center=0, fmt='.2f', linewidths=0.5)\n",
    "\n",
    "\n",
    "plt.title('Matriz de Correlación')\n",
    "plt.tight_layout()\n",
    "\n",
    "\n",
    "plt.show()"
   ]
  },
  {
   "cell_type": "markdown",
   "id": "56e5d979",
   "metadata": {},
   "source": [
    "Parece que la relación es débil en todos los casos, es como si todo fueran variables independientes. Parece que Pearson no es una buena opción. Probaremos con Spearman, que mide las relaciones monótonas, no necesariamente lineales."
   ]
  },
  {
   "cell_type": "code",
   "execution_count": null,
   "id": "8561358d",
   "metadata": {},
   "outputs": [],
   "source": [
    "correlation_matrix = df.corr(numeric_only=True, min_periods=2, method=\"spearman\")\n",
    "print(f\"Correlaciones entre todas las columnas numéricas (Spearman): \\n\\n{correlation_matrix}\")\n",
    "plt.figure(figsize=(10, 8))\n",
    "sns.heatmap(correlation_matrix, annot=True, cmap='coolwarm', center=0, fmt='.2f', linewidths=0.5)\n",
    "\n",
    "\n",
    "plt.title('Matriz de Correlación')\n",
    "plt.tight_layout()\n",
    "\n",
    "\n",
    "plt.show()"
   ]
  },
  {
   "cell_type": "markdown",
   "id": "c9a1e82d",
   "metadata": {},
   "source": [
    "Seguimos observando que hay una relación mínima entre las variables, está claro que tienen que estar relacionadas, pero de otras formas o con los valores categóricos."
   ]
  },
  {
   "cell_type": "code",
   "execution_count": null,
   "id": "150bba4e",
   "metadata": {},
   "outputs": [],
   "source": []
  }
 ],
 "metadata": {
  "kernelspec": {
   "display_name": "IA",
   "language": "python",
   "name": "python3"
  },
  "language_info": {
   "codemirror_mode": {
    "name": "ipython",
    "version": 3
   },
   "file_extension": ".py",
   "mimetype": "text/x-python",
   "name": "python",
   "nbconvert_exporter": "python",
   "pygments_lexer": "ipython3",
   "version": "3.12.3"
  }
 },
 "nbformat": 4,
 "nbformat_minor": 5
}
